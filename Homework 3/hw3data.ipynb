{
 "cells": [
  {
   "cell_type": "markdown",
   "metadata": {
    "collapsed": true
   },
   "source": [
    "## Data for Doodle Scheduling problem"
   ]
  },
  {
   "cell_type": "code",
   "execution_count": 1,
   "metadata": {},
   "outputs": [
    {
     "data": {
      "text/plain": [
       "15×13 Named Array{Int64,2}\n",
       "NAME ╲ TIME │ 10:00  10:20  10:40  11:00  …   1:40   2:00   2:20   2:40\n",
       "────────────┼──────────────────────────────────────────────────────────\n",
       ":Manuel     │     0      0      1      1  …      0      0      0      0\n",
       ":Luca       │     0      1      1      0         1      0      0      0\n",
       ":Jule       │     0      0      0      1         1      1      1      1\n",
       ":Michael    │     0      0      0      1         1      1      1      0\n",
       ":Malte      │     0      0      0      0         0      0      0      0\n",
       ":Chris      │     0      1      1      0         1      0      0      0\n",
       ":Spyros     │     0      0      0      1         0      0      0      0\n",
       ":Mirjam     │     1      1      0      0         0      1      1      1\n",
       ":Matt       │     1      1      1      0         1      1      0      0\n",
       ":Florian    │     0      0      0      0         0      0      0      0\n",
       ":Josep      │     0      0      0      0         0      0      0      0\n",
       ":Joel       │     1      1      0      0         0      0      1      1\n",
       ":Tom        │     1      1      1      0         0      0      1      1\n",
       ":Daniel     │     0      1      1      1         0      0      0      0\n",
       ":Anne       │     1      1      0      0  …      0      0      0      0"
      ]
     },
     "execution_count": 1,
     "metadata": {},
     "output_type": "execute_result"
    }
   ],
   "source": [
    "using JuMP, NamedArrays\n",
    "\n",
    "availability =\n",
    "  [ 0 0 1 1 0 0 0 1 1 0 0 0 0\n",
    "    0 1 1 0 0 0 0 0 1 1 0 0 0\n",
    "    0 0 0 1 1 0 1 1 0 1 1 1 1\n",
    "    0 0 0 1 1 1 1 1 1 1 1 1 0\n",
    "    0 0 0 0 0 0 1 1 1 0 0 0 0\n",
    "    0 1 1 0 0 0 0 0 1 1 0 0 0\n",
    "    0 0 0 1 1 1 1 0 0 0 0 0 0\n",
    "    1 1 0 0 0 0 0 0 0 0 1 1 1\n",
    "    1 1 1 0 0 0 0 0 0 1 1 0 0\n",
    "    0 0 0 0 0 0 0 1 1 0 0 0 0\n",
    "    0 0 0 0 0 0 1 1 1 0 0 0 0\n",
    "    1 1 0 0 0 1 1 1 1 0 0 1 1\n",
    "    1 1 1 0 1 1 0 0 0 0 0 1 1\n",
    "    0 1 1 1 0 0 0 0 0 0 0 0 0\n",
    "    1 1 0 0 1 1 0 0 0 0 0 0 0 ]\n",
    "\n",
    "TIMES = [\"10:00\",\"10:20\",\"10:40\",\"11:00\",\"11:20\",\"11:40\",\"lunch\",\"1:00\",\"1:20\",\"1:40\",\"2:00\",\"2:20\",\"2:40\"]\n",
    "NAMES = [:Manuel,:Luca,:Jule,:Michael,:Malte,:Chris,:Spyros,:Mirjam,:Matt,:Florian,:Josep,:Joel,:Tom,:Daniel,:Anne ]\n",
    "times = NamedArray( availability, (NAMES,TIMES), (\"NAME\",\"TIME\"))"
   ]
  },
  {
   "cell_type": "markdown",
   "metadata": {},
   "source": [
    "## Data for stadium building problem"
   ]
  },
  {
   "cell_type": "code",
   "execution_count": 3,
   "metadata": {},
   "outputs": [
    {
     "data": {
      "text/plain": [
       "Dict{Int64,Array{T,1} where T} with 18 entries:\n",
       "  18 => [17]\n",
       "  2  => [1]\n",
       "  16 => [8, 11, 14]\n",
       "  11 => [6]\n",
       "  7  => [4]\n",
       "  9  => [4, 6]\n",
       "  10 => [4]\n",
       "  17 => [12]\n",
       "  8  => [6]\n",
       "  6  => [4, 5]\n",
       "  4  => [2]\n",
       "  3  => [2]\n",
       "  5  => [3]\n",
       "  13 => [7]\n",
       "  14 => [2]\n",
       "  15 => [4, 14]\n",
       "  12 => [9]\n",
       "  1  => Any[]"
      ]
     },
     "execution_count": 3,
     "metadata": {},
     "output_type": "execute_result"
    }
   ],
   "source": [
    "using JuMP\n",
    "\n",
    "tasks = 1:18\n",
    "durations = [2 16 9 8 10 6 2 2 9 5 3 2 1 7 4 3 9 1]\n",
    "predecessors = ( [], [1], [2], [2], [3], [4,5], [4], [6], [4,6], [4], [6], [9], [7], [2], [4,14], [8,11,14], [12], [17] )\n",
    "pred_dict = Dict(zip(tasks,predecessors));   # dictionary mapping tasks --> predecessors.\n",
    "\n",
    "# additional columns of data (maximum reduction possible )\n",
    "max_reduction =  [0,  3,  1,  2,  2,  1, 1, 0,  2,  1,  1, 0, 0,  2,  2, 1,  3, 0]  # max reduction (in weeks)\n",
    "cost_reduction = [0, 30, 26, 12, 17, 15, 8, 0, 42, 21, 18, 0, 0, 22, 12, 6, 16, 0]  # cost of reduction ($1,000/week)\n",
    "bonus_amount = 30     # bonus for expediting the project ($1,000/week )\n",
    ";\n",
    "\n",
    "pred_dict"
   ]
  },
  {
   "cell_type": "code",
   "execution_count": null,
   "metadata": {
    "collapsed": true
   },
   "outputs": [],
   "source": []
  }
 ],
 "metadata": {
  "kernelspec": {
   "display_name": "Julia 1.5.3",
   "language": "julia",
   "name": "julia-1.5"
  },
  "language_info": {
   "file_extension": ".jl",
   "mimetype": "application/julia",
   "name": "julia",
   "version": "1.5.3"
  }
 },
 "nbformat": 4,
 "nbformat_minor": 1
}
