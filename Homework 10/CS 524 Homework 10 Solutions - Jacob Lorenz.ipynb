{
 "cells": [
  {
   "cell_type": "code",
   "execution_count": 1,
   "id": "current-marsh",
   "metadata": {
    "scrolled": true
   },
   "outputs": [
    {
     "name": "stderr",
     "output_type": "stream",
     "text": [
      "\u001b[32m\u001b[1m   Updating\u001b[22m\u001b[39m registry at `~/.julia/registries/General`\n",
      "######################################################################### 100.0%\n",
      "\u001b[32m\u001b[1m  Resolving\u001b[22m\u001b[39m package versions...\n",
      "\u001b[32m\u001b[1mNo Changes\u001b[22m\u001b[39m to `~/.julia/environments/v1.5/Project.toml`\n",
      "\u001b[32m\u001b[1mNo Changes\u001b[22m\u001b[39m to `~/.julia/environments/v1.5/Manifest.toml`\n",
      "\u001b[32m\u001b[1m  Resolving\u001b[22m\u001b[39m package versions...\n",
      "\u001b[32m\u001b[1mNo Changes\u001b[22m\u001b[39m to `~/.julia/environments/v1.5/Project.toml`\n",
      "\u001b[32m\u001b[1mNo Changes\u001b[22m\u001b[39m to `~/.julia/environments/v1.5/Manifest.toml`\n",
      "\u001b[32m\u001b[1m  Resolving\u001b[22m\u001b[39m package versions...\n",
      "\u001b[32m\u001b[1mNo Changes\u001b[22m\u001b[39m to `~/.julia/environments/v1.5/Project.toml`\n",
      "\u001b[32m\u001b[1mNo Changes\u001b[22m\u001b[39m to `~/.julia/environments/v1.5/Manifest.toml`\n",
      "\u001b[32m\u001b[1m  Resolving\u001b[22m\u001b[39m package versions...\n",
      "\u001b[32m\u001b[1mNo Changes\u001b[22m\u001b[39m to `~/.julia/environments/v1.5/Project.toml`\n",
      "\u001b[32m\u001b[1mNo Changes\u001b[22m\u001b[39m to `~/.julia/environments/v1.5/Manifest.toml`\n",
      "\u001b[32m\u001b[1m  Resolving\u001b[22m\u001b[39m package versions...\n",
      "\u001b[32m\u001b[1mNo Changes\u001b[22m\u001b[39m to `~/.julia/environments/v1.5/Project.toml`\n",
      "\u001b[32m\u001b[1mNo Changes\u001b[22m\u001b[39m to `~/.julia/environments/v1.5/Manifest.toml`\n",
      "\u001b[32m\u001b[1m  Resolving\u001b[22m\u001b[39m package versions...\n",
      "\u001b[32m\u001b[1mNo Changes\u001b[22m\u001b[39m to `~/.julia/environments/v1.5/Project.toml`\n",
      "\u001b[32m\u001b[1mNo Changes\u001b[22m\u001b[39m to `~/.julia/environments/v1.5/Manifest.toml`\n",
      "\u001b[32m\u001b[1m  Resolving\u001b[22m\u001b[39m package versions...\n",
      "\u001b[32m\u001b[1mNo Changes\u001b[22m\u001b[39m to `~/.julia/environments/v1.5/Project.toml`\n",
      "\u001b[32m\u001b[1mNo Changes\u001b[22m\u001b[39m to `~/.julia/environments/v1.5/Manifest.toml`\n",
      "\u001b[32m\u001b[1m  Resolving\u001b[22m\u001b[39m package versions...\n",
      "\u001b[32m\u001b[1mNo Changes\u001b[22m\u001b[39m to `~/.julia/environments/v1.5/Project.toml`\n",
      "\u001b[32m\u001b[1mNo Changes\u001b[22m\u001b[39m to `~/.julia/environments/v1.5/Manifest.toml`\n",
      "\u001b[32m\u001b[1m  Resolving\u001b[22m\u001b[39m package versions...\n",
      "\u001b[32m\u001b[1mNo Changes\u001b[22m\u001b[39m to `~/.julia/environments/v1.5/Project.toml`\n",
      "\u001b[32m\u001b[1mNo Changes\u001b[22m\u001b[39m to `~/.julia/environments/v1.5/Manifest.toml`\n",
      "\u001b[32m\u001b[1m  Resolving\u001b[22m\u001b[39m package versions...\n",
      "\u001b[32m\u001b[1mNo Changes\u001b[22m\u001b[39m to `~/.julia/environments/v1.5/Project.toml`\n",
      "\u001b[32m\u001b[1mNo Changes\u001b[22m\u001b[39m to `~/.julia/environments/v1.5/Manifest.toml`\n"
     ]
    }
   ],
   "source": [
    "using Pkg\n",
    "Pkg.add(\"Latexify\");\n",
    "Pkg.add(\"LaTeXStrings\");\n",
    "Pkg.add(\"LinearAlgebra\");\n",
    "Pkg.add(\"JuMP\");\n",
    "Pkg.add(\"Clp\");\n",
    "Pkg.add(\"PyPlot\");\n",
    "Pkg.add(\"NamedArrays\")\n",
    "Pkg.add(\"CSV\");\n",
    "Pkg.add(\"DataFrames\");\n",
    "Pkg.add(\"Ipopt\");"
   ]
  },
  {
   "cell_type": "markdown",
   "id": "removable-croatia",
   "metadata": {},
   "source": [
    "# CS/ECE/ISyE 524 - Spr 2021 - HW 10\n",
    "### Jacob Lorenz"
   ]
  },
  {
   "cell_type": "markdown",
   "id": "democratic-socket",
   "metadata": {},
   "source": [
    "# Problem 1 - Hexagon Construction\n",
    "\n",
    "**The goal is to figure out the optimal geometry of a hexagon such that (1) the hexagon's area is maximized and (2) the hexagon's diameter does not exceed 1. The diameter of a hexagon is the largest distance between any pair of points belonging to the hexagon. Hints:**\n",
    "\n",
    "- Place one of the vertices at the origin so you do not need as many decision variables\n",
    "- A simple way of computing the area of a hexagon is to split it into four triangles that share a common vertex. The area of the hexagon is then the sum of the areas of the four triangles\n",
    "- The optimal solution will look like a legitimate hexagon. It will not be degenerate, nor will it be perfectly regular.\n",
    "\n",
    "**Plot a picture of the optimal hexagon.**"
   ]
  },
  {
   "cell_type": "markdown",
   "id": "further-tours",
   "metadata": {},
   "source": [
    "The formulation of this problem reduces to inscribing a polygon in a circle of diameter 1 such that the inscribed polygon has the largest area. To do so, we create decision variables $x_i,y_i$ for $i \\in [1,6]$ to represent the x and y coordinates, respectively, of each vertex in our hexagon.\n",
    "\n",
    "Since we can essentially fit an axis over the top of our diameter-1 circle, we let the first constraints represent the diameter constraint, such that all points are within the allowed diameter.\n",
    "\n",
    "Given n vertices,\n",
    "\n",
    "$$\n",
    "    x_i^2 + y_i^2 \\leq .25 \\;\\;\\;\\; \\forall i \\in [1,n]\n",
    "$$\n",
    "\n",
    "Next, we add ordering constraints to each of the vertices\n",
    "\n",
    "$$\n",
    "    x_i*y_{i+1} - y_i*x_{i+1} \\geq 0 \\;\\;\\;\\; \\forall i \\in [1,n-1] \\\\\n",
    "    x_n*y_1 - y_n*x_1 \\geq 0\n",
    "$$\n",
    "\n",
    "Finally, we calculate our objective by dividing the region into triangular ones and finding the sum of all triagnular regions.\n",
    "\n",
    "$$\n",
    "    \\max_{x,y} \\frac{1}{2} * \\sum_{i=1}^{n-1} ({x_i * y_{i+1} - y_i * x_{i+1}}) + (x_n * y_1 - y_n * x_1)\n",
    "$$"
   ]
  },
  {
   "cell_type": "code",
   "execution_count": 3,
   "id": "uniform-float",
   "metadata": {
    "scrolled": false
   },
   "outputs": [
    {
     "data": {
      "text/plain": [
       "findOptimalInscribedPolygon (generic function with 1 method)"
      ]
     },
     "execution_count": 3,
     "metadata": {},
     "output_type": "execute_result"
    }
   ],
   "source": [
    "using PyPlot, JuMP, Ipopt, Random\n",
    "\n",
    "# x = [1, 2, 3, 2, 1, 0]\n",
    "# y = [0, 0, 1, 2, 2, 1]\n",
    "\n",
    "function findOptimalInscribedPolygon(n)\n",
    "    m = Model(Ipopt.Optimizer)\n",
    "    @variable(m, x[1:n] )\n",
    "    @variable(m, y[1:n] )\n",
    "\n",
    "    # Diameter constraints\n",
    "    for i = 1:n\n",
    "        @constraint(m, x[i]^2 + y[i]^2 <= .25)\n",
    "    end\n",
    "\n",
    "    # Add ordering constraint to the vertices\n",
    "    for i = 1:n-1\n",
    "        @NLconstraint(m, x[i]*y[i+1]-y[i]*x[i+1] >= 0 )\n",
    "    end\n",
    "    @NLconstraint(m, x[n]*y[1]-y[n]*x[1] >= 0 )\n",
    "    \n",
    "    # Calculate the areas via triangle regions\n",
    "    @NLexpression(m, firstRegionArea, 0.5*(x[n]*y[1]-y[n]*x[1]))\n",
    "    @NLexpression(m, remainingRegionsArea, 0.5*sum( x[i]*y[i+1]-y[i]*x[i+1] for i=1:n-1))\n",
    "    @NLexpression(m, totalArea, firstRegionArea + remainingRegionsArea)\n",
    "    \n",
    "    @NLobjective(m, Max, totalArea)\n",
    "\n",
    "    # Seed the x and y values such that we do not end up with 0\n",
    "    Random.seed!(2367877)\n",
    "\n",
    "    set_start_value.(x,rand(n))\n",
    "    set_start_value.(y,rand(n))\n",
    "    \n",
    "    optimize!(m)\n",
    "    xopt = value.([x; x[1]])\n",
    "    yopt = value.([y; y[1]])\n",
    "    return (xopt, yopt, objective_value(m))\n",
    "end"
   ]
  },
  {
   "cell_type": "code",
   "execution_count": 4,
   "id": "available-ecology",
   "metadata": {
    "scrolled": false
   },
   "outputs": [
    {
     "name": "stdout",
     "output_type": "stream",
     "text": [
      "\n",
      "******************************************************************************\n",
      "This program contains Ipopt, a library for large-scale nonlinear optimization.\n",
      " Ipopt is released as open source code under the Eclipse Public License (EPL).\n",
      "         For more information visit http://projects.coin-or.org/Ipopt\n",
      "******************************************************************************\n",
      "\n",
      "This is Ipopt version 3.13.2, running with linear solver mumps.\n",
      "NOTE: Other linear solvers might be more efficient (see Ipopt documentation).\n",
      "\n",
      "Number of nonzeros in equality constraint Jacobian...:        0\n",
      "Number of nonzeros in inequality constraint Jacobian.:       36\n",
      "Number of nonzeros in Lagrangian Hessian.............:       72\n",
      "\n",
      "Total number of variables............................:       12\n",
      "                     variables with only lower bounds:        0\n",
      "                variables with lower and upper bounds:        0\n",
      "                     variables with only upper bounds:        0\n",
      "Total number of equality constraints.................:        0\n",
      "Total number of inequality constraints...............:       12\n",
      "        inequality constraints with only lower bounds:        6\n",
      "   inequality constraints with lower and upper bounds:        0\n",
      "        inequality constraints with only upper bounds:        6\n",
      "\n",
      "iter    objective    inf_pr   inf_du lg(mu)  ||d||  lg(rg) alpha_du alpha_pr  ls\n",
      "   0 -3.5962856e-02 6.86e-01 1.09e+00  -1.0 0.00e+00    -  0.00e+00 0.00e+00   0\n",
      "   1  8.1552264e-02 3.12e-01 7.26e-01  -1.0 5.27e-01    -  5.31e-01 5.56e-01f  1\n",
      "   2  8.6504433e-02 2.16e-01 7.33e+00  -1.7 1.93e-01   2.0 1.00e+00 4.24e-01h  1\n",
      "   3  2.5242103e-01 4.64e-02 2.48e+00  -1.7 3.39e-01    -  2.04e-01 8.71e-01h  1\n",
      "   4  5.1133275e-01 2.98e-01 1.62e+00  -1.7 9.68e-01    -  3.52e-01 3.91e-01f  1\n",
      "   5  4.3733387e-01 1.52e-01 1.27e+00  -1.7 4.70e-01    -  4.03e-01 1.00e+00f  1\n",
      "   6  5.2648892e-01 6.24e-02 6.17e-01  -1.7 3.24e-01    -  5.52e-01 9.12e-01h  1\n",
      "   7  4.5841462e-01 0.00e+00 2.79e+00  -1.7 1.00e-01   1.5 1.00e+00 1.00e+00h  1\n",
      "   8  4.9462953e-01 0.00e+00 2.55e-01  -1.7 6.87e-02    -  1.00e+00 1.00e+00h  1\n",
      "   9  4.9596398e-01 0.00e+00 2.10e-01  -1.7 1.93e-02   1.0 1.00e+00 1.00e+00h  1\n",
      "iter    objective    inf_pr   inf_du lg(mu)  ||d||  lg(rg) alpha_du alpha_pr  ls\n",
      "  10  6.2077335e-01 4.83e-02 2.59e-02  -1.7 2.77e-01    -  1.00e+00 1.00e+00f  1\n",
      "  11  8.6468809e+00 4.08e+00 3.50e-01  -2.5 1.97e+00    -  9.21e-01 1.00e+00h  1\n",
      "  12  5.4365402e+00 2.44e+00 1.22e+00  -2.5 9.75e-01   0.6 1.00e+00 4.49e-01h  1\n",
      "  13  1.7012550e+00 5.53e-01 2.91e-01  -2.5 7.45e-01    -  1.00e+00 1.00e+00h  1\n",
      "  14  8.0397843e-01 9.18e-02 6.33e-02  -2.5 3.11e-01    -  1.00e+00 1.00e+00h  1\n",
      "  15  6.4332309e-01 8.35e-04 7.79e-03  -2.5 8.39e-02    -  1.00e+00 1.00e+00h  1\n",
      "  16  6.4813168e-01 0.00e+00 1.87e-04  -3.8 6.89e-03    -  1.00e+00 1.00e+00h  1\n",
      "  17  6.4950134e-01 0.00e+00 7.43e-04  -5.7 6.02e-04   0.1 1.00e+00 1.00e+00h  1\n",
      "  18  6.4950805e-01 0.00e+00 4.06e-05  -5.7 9.92e-05  -0.4 1.00e+00 1.00e+00h  1\n",
      "  19  6.4950802e-01 0.00e+00 9.45e-06  -5.7 6.89e-05  -0.9 1.00e+00 1.00e+00h  1\n",
      "iter    objective    inf_pr   inf_du lg(mu)  ||d||  lg(rg) alpha_du alpha_pr  ls\n",
      "  20  6.4951906e-01 0.00e+00 6.13e-10  -8.6 2.53e-05    -  1.00e+00 1.00e+00h  1\n",
      "\n",
      "Number of Iterations....: 20\n",
      "\n",
      "                                   (scaled)                 (unscaled)\n",
      "Objective...............:  -6.4951906471860210e-01    6.4951906471860210e-01\n",
      "Dual infeasibility......:   6.1285596042459645e-10    6.1285596042459645e-10\n",
      "Constraint violation....:   0.0000000000000000e+00    0.0000000000000000e+00\n",
      "Complementarity.........:   2.6011211412341348e-09   -2.6011211412341348e-09\n",
      "Overall NLP error.......:   2.6011211412341348e-09    6.1285596042459645e-10\n",
      "\n",
      "\n",
      "Number of objective function evaluations             = 21\n",
      "Number of objective gradient evaluations             = 21\n",
      "Number of equality constraint evaluations            = 0\n",
      "Number of inequality constraint evaluations          = 21\n",
      "Number of equality constraint Jacobian evaluations   = 0\n",
      "Number of inequality constraint Jacobian evaluations = 21\n",
      "Number of Lagrangian Hessian evaluations             = 20\n",
      "Total CPU secs in IPOPT (w/o function evaluations)   =      1.799\n",
      "Total CPU secs in NLP function evaluations           =      0.901\n",
      "\n",
      "EXIT: Optimal Solution Found.\n",
      "\n",
      "Area of Optimal 6 Sided Polynomial: "
     ]
    },
    {
     "data": {
      "image/png": "[encoded data removed]",
      "text/plain": [
       "Figure(PyObject <Figure size 500x500 with 1 Axes>)"
      ]
     },
     "metadata": {},
     "output_type": "display_data"
    },
    {
     "name": "stdout",
     "output_type": "stream",
     "text": [
      "0.6495190647186021\n",
      "\n",
      "Coordinates:\n"
     ]
    },
    {
     "data": {
      "text/plain": [
       "6×2 Array{Float64,2}:\n",
       "  0.445377    0.227243\n",
       "  0.0258903   0.499329\n",
       " -0.419487    0.272086\n",
       " -0.445377   -0.227243\n",
       " -0.0258903  -0.499329\n",
       "  0.419487   -0.272086"
      ]
     },
     "execution_count": 4,
     "metadata": {},
     "output_type": "execute_result"
    }
   ],
   "source": [
    "n_hexagon = 6;\n",
    "(xopt,yopt,aopt) = findOptimalInscribedPolygon(n_hexagon)\n",
    "\n",
    "t = range(0,stop=2π,length=100) \n",
    "figure(figsize=[5,5])\n",
    "plot( 0.5*cos.(t), 0.5*sin.(t), \"b-\" )\n",
    "plot( xopt, yopt, \"r.-\" )\n",
    "axis(\"equal\");\n",
    "axis(\"on\");\n",
    "\n",
    "title(\"Solution\")\n",
    ";\n",
    "\n",
    "println()\n",
    "print(\"Area of Optimal \", n_hexagon, \" Sided Polynomial: \")\n",
    "println(aopt)\n",
    "println()\n",
    "println(\"Coordinates:\")\n",
    "[xopt[1:6] yopt[1:6]]"
   ]
  },
  {
   "cell_type": "markdown",
   "id": "devoted-thanksgiving",
   "metadata": {},
   "source": [
    "Based on the results above, we can see that the optimal area for a 6-sided polygon contained within a circle of diameter 1 is 0.6495190647186021, and the polygon is indeed a legitimate hexagon. It is curious; however, that the optimal hexagon is depicted as being off-center. Given the symmetry, it seems that any arrangement around the circle with the same distance between vertices would provide the exact same optimal area, theoretically meaning an infinite number of solutions. I guess the solution shown was derived from the starting seed values for x and y."
   ]
  },
  {
   "cell_type": "markdown",
   "id": "important-politics",
   "metadata": {},
   "source": [
    "# Problem 2 - Fertilizer Influence Model\n",
    "\n",
    "**A series of experiments is conducted to determine the effect of a particular fertilizer on wheat crop yield. The results are shown in the homework 10 writeup.**\n",
    "\n",
    "**Such situations typically involve some sort of diminishing returns. So there is a limit to how much the fertilizer can boost the yield. A popular model for this relationship is the following:**\n",
    "\n",
    "$$\n",
    "    y = k_1 + k_2 * exp(k_3 * x)\n",
    "$$\n",
    "\n",
    "**Use nonlinear least squares to determine the values of ($k_1,k_2,k_3$) that provide the best fit to the data. We can expect coefficients in the neighborhood of (500, -200, -1).**\n",
    "\n",
    "**Produce a plot of the original data pioints and the best fit curve.**"
   ]
  },
  {
   "cell_type": "markdown",
   "id": "unnecessary-muscle",
   "metadata": {},
   "source": [
    "Nonlinear least squares is essentially the same as linear least squares, just that the proposed expression for $\\hat{y}$ is nonlinear in nature. Therefore, we are looking to minimize\n",
    "\n",
    "$$\n",
    "    \\sum_{i = 1}^N {y_i - (k_1 + k_2 * e^{k_3 * x_i})}\n",
    "$$"
   ]
  },
  {
   "cell_type": "code",
   "execution_count": 40,
   "id": "entertaining-break",
   "metadata": {
    "scrolled": false
   },
   "outputs": [
    {
     "data": {
      "image/png": "[encoded data removed]",
      "text/plain": [
       "Figure(PyObject <Figure size 640x480 with 1 Axes>)"
      ]
     },
     "metadata": {},
     "output_type": "display_data"
    },
    {
     "name": "stdout",
     "output_type": "stream",
     "text": [
      "This is Ipopt version 3.13.2, running with linear solver mumps.\n",
      "NOTE: Other linear solvers might be more efficient (see Ipopt documentation).\n",
      "\n",
      "Number of nonzeros in equality constraint Jacobian...:        0\n",
      "Number of nonzeros in inequality constraint Jacobian.:        0\n",
      "Number of nonzeros in Lagrangian Hessian.............:        6\n",
      "\n",
      "Total number of variables............................:        3\n",
      "                     variables with only lower bounds:        0\n",
      "                variables with lower and upper bounds:        0\n",
      "                     variables with only upper bounds:        0\n",
      "Total number of equality constraints.................:        0\n",
      "Total number of inequality constraints...............:        0\n",
      "        inequality constraints with only lower bounds:        0\n",
      "   inequality constraints with lower and upper bounds:        0\n",
      "        inequality constraints with only upper bounds:        0\n",
      "\n",
      "iter    objective    inf_pr   inf_du lg(mu)  ||d||  lg(rg) alpha_du alpha_pr  ls\n",
      "   0  8.7269438e+08 0.00e+00 1.00e+02  -1.0 0.00e+00    -  0.00e+00 0.00e+00   0\n",
      "   1  3.1868893e+08 0.00e+00 3.67e+01  -1.0 9.97e-02  -2.0 1.00e+00 1.00e+00f  1\n",
      "   2  1.1567909e+08 0.00e+00 1.35e+01  -1.0 9.94e-02  -2.5 1.00e+00 1.00e+00f  1\n",
      "   3  4.1543467e+07 0.00e+00 4.94e+00  -1.0 1.35e-01  -3.0 1.00e+00 1.00e+00f  1\n",
      "   4  1.4641448e+07 0.00e+00 1.80e+00  -1.0 2.48e-01  -3.4 1.00e+00 1.00e+00f  1\n",
      "   5  4.9935561e+06 0.00e+00 6.55e-01  -1.0 4.51e-01  -3.9 1.00e+00 1.00e+00f  1\n",
      "   6  1.6096782e+06 0.00e+00 2.34e-01  -1.7 8.10e-01  -4.4 1.00e+00 1.00e+00f  1\n",
      "   7  4.7349084e+05 0.00e+00 8.17e-02  -1.7 1.43e+00  -4.9 1.00e+00 1.00e+00f  1\n",
      "   8  1.2498445e+05 0.00e+00 2.67e-02  -2.5 2.53e+00  -5.3 1.00e+00 1.00e+00f  1\n",
      "   9  3.6648511e+04 0.00e+00 7.31e-03  -3.8 4.55e+00  -5.8 1.00e+00 1.00e+00f  1\n",
      "iter    objective    inf_pr   inf_du lg(mu)  ||d||  lg(rg) alpha_du alpha_pr  ls\n",
      "  10  1.9139987e+04 0.00e+00 1.22e-03  -3.8 7.81e+00  -6.3 1.00e+00 1.00e+00f  1\n",
      "  11  1.4483069e+04 0.00e+00 5.04e-06  -5.7 9.60e+00  -6.8 1.00e+00 1.00e+00f  1\n",
      "  12  1.3404717e+04 0.00e+00 1.91e-04  -8.6 1.87e+01    -  1.00e+00 1.00e+00f  1\n",
      "  13  1.3390198e+04 0.00e+00 1.24e-06  -8.6 1.91e+00    -  1.00e+00 1.00e+00f  1\n",
      "  14  1.3390093e+04 0.00e+00 2.59e-07  -8.6 7.43e-01    -  1.00e+00 1.00e+00f  1\n",
      "  15  1.3390093e+04 0.00e+00 4.25e-13  -8.6 4.47e-03    -  1.00e+00 1.00e+00f  1\n",
      "\n",
      "Number of Iterations....: 15\n",
      "\n",
      "                                   (scaled)                 (unscaled)\n",
      "Objective...............:   1.5235501945550864e-04    1.3390093119479579e+04\n",
      "Dual infeasibility......:   4.2479619917260562e-13    3.7334251828724518e-05\n",
      "Constraint violation....:   0.0000000000000000e+00    0.0000000000000000e+00\n",
      "Complementarity.........:   0.0000000000000000e+00    0.0000000000000000e+00\n",
      "Overall NLP error.......:   4.2479619917260562e-13    3.7334251828724518e-05\n",
      "\n",
      "\n",
      "Number of objective function evaluations             = 16\n",
      "Number of objective gradient evaluations             = 16\n",
      "Number of equality constraint evaluations            = 0\n",
      "Number of inequality constraint evaluations          = 0\n",
      "Number of equality constraint Jacobian evaluations   = 0\n",
      "Number of inequality constraint Jacobian evaluations = 0\n",
      "Number of Lagrangian Hessian evaluations             = 15\n",
      "Total CPU secs in IPOPT (w/o function evaluations)   =      0.009\n",
      "Total CPU secs in NLP function evaluations           =      0.000\n",
      "\n",
      "EXIT: Optimal Solution Found.\n",
      "Optimal Parameters:\n",
      "k1: 523.3055369939487\n",
      "k2: -156.94784160483016\n",
      "k3: -0.19966457079434857\n",
      "LS Error: 13390.09311947958\n"
     ]
    }
   ],
   "source": [
    "using JuMP, Ipopt, PyPlot\n",
    "\n",
    "x = [-5, -3, -1, 1, 3, 5]\n",
    "y = [127, 151, 379, 421, 460, 426]\n",
    "\n",
    "n = 6\n",
    "\n",
    "function nonlinearLeastSquares(k1est, k2est, k3est)\n",
    "    m2 = Model(Ipopt.Optimizer)\n",
    "\n",
    "    @variable(m2, k[1:3])\n",
    "    @NLobjective(m2, Min, sum((y[i] - (k[1] + k[2] * exp(k[3] * x[i])))^2 for i in 1:n))\n",
    "\n",
    "    set_start_value.(k[1],k1est)\n",
    "    set_start_value.(k[2],k2est)\n",
    "    set_start_value.(k[3],k3est)\n",
    "    \n",
    "    optimize!(m2)\n",
    "    return (value.(k[1]), value.(k[2]), value.(k[3]),objective_value(m2))\n",
    "end\n",
    "\n",
    "k1est = 500\n",
    "k2est = -200\n",
    "k3est = -1\n",
    "\n",
    "(k1,k2,k3,obj) = nonlinearLeastSquares(k1est, k2est, k3est);\n",
    "\n",
    "println(\"Optimal Parameters:\")\n",
    "print(\"k1: \")\n",
    "println(k1)\n",
    "print(\"k2: \")\n",
    "println(k2)\n",
    "print(\"k3: \")\n",
    "println(k3)\n",
    "print(\"LS Error: \")\n",
    "println(obj)\n",
    "\n",
    "\n",
    "# Plot the data and the best-fit curve\n",
    "xv = range(-5, stop=5, length=100)\n",
    "yv = zeros(length(xv))\n",
    "for i in 1:length(xv)\n",
    "    yv[i] = k1 + k2 * exp(k3*xv[i])\n",
    "end\n",
    "\n",
    "scatter(x, y, label=\"data points\")\n",
    "plot(xv, yv, \"r-\", label=\"best fit\")\n",
    "grid()\n",
    "legend(loc=\"best\"); title(\"Best fit for the data\")\n",
    "\n",
    ";"
   ]
  },
  {
   "cell_type": "markdown",
   "id": "tired-wagon",
   "metadata": {},
   "source": [
    "From the results above, we see that the optimal parameters / exponential equation to model our fertilizer data was\n",
    "\n",
    "$$\n",
    "    y = 523.3055 - 156.909478 * e^{-.01996646x}\n",
    "$$\n",
    "\n",
    "Although the squared error is rather high, 13390, we can see visually that the estimated curve of best fit tracks nicely with the data points and provides a nice intermediary curve to describe the diminishing returns."
   ]
  }
 ],
 "metadata": {
  "kernelspec": {
   "display_name": "Julia 1.5.3",
   "language": "julia",
   "name": "julia-1.5"
  },
  "language_info": {
   "file_extension": ".jl",
   "mimetype": "application/julia",
   "name": "julia",
   "version": "1.5.3"
  }
 },
 "nbformat": 4,
 "nbformat_minor": 5
}
