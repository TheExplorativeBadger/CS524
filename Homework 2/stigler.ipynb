{
 "cells": [
  {
   "cell_type": "code",
   "execution_count": 1,
   "metadata": {},
   "outputs": [
    {
     "name": "stderr",
     "output_type": "stream",
     "text": [
      "\u001b[32m\u001b[1m   Updating\u001b[22m\u001b[39m registry at `~/.julia/registries/General`\n",
      "######################################################################### 100.0%\n",
      "\u001b[32m\u001b[1m  Resolving\u001b[22m\u001b[39m package versions...\n",
      "\u001b[32m\u001b[1mNo Changes\u001b[22m\u001b[39m to `~/.julia/environments/v1.5/Project.toml`\n",
      "\u001b[32m\u001b[1mNo Changes\u001b[22m\u001b[39m to `~/.julia/environments/v1.5/Manifest.toml`\n",
      "\u001b[32m\u001b[1m  Resolving\u001b[22m\u001b[39m package versions...\n",
      "\u001b[32m\u001b[1mNo Changes\u001b[22m\u001b[39m to `~/.julia/environments/v1.5/Project.toml`\n",
      "\u001b[32m\u001b[1mNo Changes\u001b[22m\u001b[39m to `~/.julia/environments/v1.5/Manifest.toml`\n"
     ]
    }
   ],
   "source": [
    "using Pkg\n",
    "Pkg.add(\"CSV\")\n",
    "Pkg.add(\"DataFrames\")\n"
   ]
  },
  {
   "cell_type": "code",
   "execution_count": 8,
   "metadata": {
    "scrolled": true
   },
   "outputs": [
    {
     "name": "stdout",
     "output_type": "stream",
     "text": [
      "Foods:\n",
      "\n",
      "Wheat Flour (Enriched)\n",
      "Macaroni\n",
      "Wheat Cereal (Enriched)\n",
      "Corn Flakes\n",
      "Corn Meal\n",
      "Hominy Grits\n",
      "Rice\n",
      "Rolled Oats\n",
      "White Bread (Enriched)\n",
      "Whole Wheat Bread\n",
      "Rye Bread\n",
      "Pound Cake\n",
      "Soda Crackers\n",
      "Milk\n",
      "Evaporated Milk (can)\n",
      "Butter\n",
      "Oleomargarine\n",
      "Eggs\n",
      "Cheese (Cheddar)\n",
      "Cream\n",
      "Peanut Butter\n",
      "Mayonnaise\n",
      "Crisco\n",
      "Lard\n",
      "Sirloin Steak\n",
      "Round Steak\n",
      "Rib Roast\n",
      "Chuck Roast\n",
      "Plate\n",
      "Liver (Beef)\n",
      "Leg of Lamb\n",
      "Lamb Chops (Rib)\n",
      "Pork Chops\n",
      "Pork Loin Roast\n",
      "Bacon\n",
      "Ham, smoked\n",
      "Salt Pork\n",
      "Roasting Chicken\n",
      "Veal Cutlets\n",
      "Salmon, Pink (can)\n",
      "Apples\n",
      "Bananas\n",
      "Lemons\n",
      "Oranges\n",
      "Green Beans\n",
      "Cabbage\n",
      "Carrots\n",
      "Celery\n",
      "Lettuce\n",
      "Onions\n",
      "Potatoes\n",
      "Spinach\n",
      "Sweet Potatoes\n",
      "Peaches (can)\n",
      "Pears (can)\n",
      "Pineapple (can)\n",
      "Asparagus (can)\n",
      "Green Beans (can)\n",
      "Pork and Beans (can)\n",
      "Corn (can)\n",
      "Peas (can)\n",
      "Tomatoes (can)\n",
      "Tomato Soup (can)\n",
      "Peaches, Dried\n",
      "Prunes, Dried\n",
      "Raisins, Dried\n",
      "Peas, Dried\n",
      "Lima Beans, Dried\n",
      "Navy Beans, Dried\n",
      "Coffee\n",
      "Tea\n",
      "Cocoa\n",
      "Chocolate\n",
      "Sugar\n",
      "Corn Syrup\n",
      "Molasses\n",
      "Strawberry Preserves\n",
      "\n",
      "\n",
      "Nutrient Lower Bounds:\n",
      "\n",
      "Calories (1000) at least: 3.0\n",
      "Protein (g) at least: 70\n",
      "Calcium (g) at least: 0.8\n",
      "Iron (mg) at least: 12\n",
      "Vitamin A (1000 IU) at least: 5.0\n",
      "Thiamine (mg) at least: 1.8\n",
      "Riboflavin (mg) at least: 2.7\n",
      "Niacin (mg) at least: 18\n",
      "Ascorbic Acid (mg) at least: 75\n"
     ]
    }
   ],
   "source": [
    "# STARTER CODE FOR STIGLER'S DIET PROBLEM\n",
    "\n",
    "using NamedArrays\n",
    "using CSV\n",
    "using DataFrames\n",
    "\n",
    "# import Stigler's data set\n",
    "raw = CSV.read(joinpath(@__DIR__, \"stigler.csv\"), DataFrame)\n",
    "(m,n) = size(raw)\n",
    "\n",
    "n_nutrients = 2:n      # columns containing nutrients\n",
    "n_foods = 2:m          # rows containing food names\n",
    "\n",
    "nutrients = names(raw)[n_nutrients]   # the list of nutrients (convert to 1-D array)\n",
    "foods = raw[n_foods, 1][:]           # the list of foods (convert to 1-D array)\n",
    "\n",
    "# lower[i] is the minimum daily requirement of nutrient i.\n",
    "lower = Dict(zip(nutrients,raw[1, n_nutrients]))\n",
    "\n",
    "# data[f,i] is the amount of nutrient i contained in food f.\n",
    "# # Because we cannot construct namedarray directly from data frame\n",
    "# # we need to convert it into a matrix first\n",
    "data = convert(Matrix{Float64}, raw[n_foods, n_nutrients])\n",
    "data = NamedArray(data, (foods, nutrients), (\"foods\", \"nutrients\"))\n",
    "\n",
    "println(\"Foods:\\n\")\n",
    "for i in foods\n",
    "    println(i)\n",
    "end\n",
    "\n",
    "\n",
    "println(\"\\n\\nNutrient Lower Bounds:\\n\")\n",
    "for j in nutrients\n",
    "    println(j,\" at least: \",lower[j])\n",
    "end\n",
    "\n",
    "# data"
   ]
  },
  {
   "cell_type": "code",
   "execution_count": 3,
   "metadata": {},
   "outputs": [
    {
     "data": {
      "text/plain": [
       "Dict{String,Any} with 9 entries:\n",
       "  \"Calories (1000)\"     => 3.0\n",
       "  \"Ascorbic Acid (mg)\"  => 75\n",
       "  \"Calcium (g)\"         => 0.8\n",
       "  \"Niacin (mg)\"         => 18\n",
       "  \"Thiamine (mg)\"       => 1.8\n",
       "  \"Iron (mg)\"           => 12\n",
       "  \"Vitamin A (1000 IU)\" => 5.0\n",
       "  \"Riboflavin (mg)\"     => 2.7\n",
       "  \"Protein (g)\"         => 70"
      ]
     },
     "execution_count": 3,
     "metadata": {},
     "output_type": "execute_result"
    }
   ],
   "source": [
    "lower"
   ]
  },
  {
   "cell_type": "code",
   "execution_count": null,
   "metadata": {},
   "outputs": [],
   "source": []
  }
 ],
 "metadata": {
  "kernelspec": {
   "display_name": "Julia 1.5.3",
   "language": "julia",
   "name": "julia-1.5"
  },
  "language_info": {
   "file_extension": ".jl",
   "mimetype": "application/julia",
   "name": "julia",
   "version": "1.5.3"
  }
 },
 "nbformat": 4,
 "nbformat_minor": 1
}
