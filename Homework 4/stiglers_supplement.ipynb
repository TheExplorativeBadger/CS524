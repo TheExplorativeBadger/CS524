{
 "cells": [
  {
   "cell_type": "code",
   "execution_count": null,
   "metadata": {
    "scrolled": true
   },
   "outputs": [],
   "source": [
    "# STARTER CODE FOR STIGLER'S DIET PROBLEM\n",
    "\n",
    "using NamedArrays\n",
    "using CSV\n",
    "using DataFrames\n",
    "\n",
    "# import Stigler's data set\n",
    "raw = CSV.read(joinpath(@__DIR__, \"stigler.csv\"), DataFrame)\n",
    "(m,n) = size(raw)\n",
    "\n",
    "n_nutrients = 2:n      # columns containing nutrients\n",
    "n_foods = 2:m          # rows containing food names\n",
    "\n",
    "nutrients = names(raw)[n_nutrients]   # the list of nutrients (convert to 1-D array)\n",
    "foods = raw[n_foods, 1][:]           # the list of foods (convert to 1-D array)\n",
    "\n",
    "# lower[i] is the minimum daily requirement of nutrient i.\n",
    "lower = Dict(zip(nutrients,raw[1, n_nutrients]))\n",
    "\n",
    "# data[f,i] is the amount of nutrient i contained in food f.\n",
    "# # Because we cannot construct namedarray directly from data frame\n",
    "# # we need to convert it into a matrix first\n",
    "data = convert(Matrix{Float64}, raw[n_foods, n_nutrients])\n",
    "data = NamedArray(data, (foods, nutrients), (\"foods\", \"nutrients\"))"
   ]
  },
  {
   "cell_type": "code",
   "execution_count": null,
   "metadata": {},
   "outputs": [],
   "source": [
    "# STARTER CODE FOR QUESTION 2B\n",
    "\n",
    "foods2 = [foods; \"Calcium Pills\"];\n",
    "\n",
    "data2 = [data; [0 0 0.5/0.01 0 0 0 0 0 0]];\n",
    "setnames!(data2, foods2, 1);\n",
    "\n",
    "data2"
   ]
  }
 ],
 "metadata": {
  "kernelspec": {
   "display_name": "Julia 1.5.3",
   "language": "julia",
   "name": "julia-1.5"
  },
  "language_info": {
   "file_extension": ".jl",
   "mimetype": "application/julia",
   "name": "julia",
   "version": "1.5.3"
  }
 },
 "nbformat": 4,
 "nbformat_minor": 1
}